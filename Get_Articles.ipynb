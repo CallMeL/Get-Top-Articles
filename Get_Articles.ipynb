{
  "nbformat": 4,
  "nbformat_minor": 0,
  "metadata": {
    "colab": {
      "name": "Get-Articles.ipynb",
      "provenance": [],
      "collapsed_sections": [
        "q6S8gP9hHe5d"
      ],
      "mount_file_id": "1vtieFVxoRwWijN_h9Ne-ItQr8-e-EpAp",
      "authorship_tag": "ABX9TyOCpWdXhLiSQOMMO55VzBPB",
      "include_colab_link": true
    },
    "kernelspec": {
      "name": "python3",
      "display_name": "Python 3"
    },
    "language_info": {
      "name": "python"
    }
  },
  "cells": [
    {
      "cell_type": "markdown",
      "metadata": {
        "id": "view-in-github",
        "colab_type": "text"
      },
      "source": [
        "<a href=\"https://colab.research.google.com/github/CallMeL/Get-Top-Articles/blob/master/Get_Articles.ipynb\" target=\"_parent\"><img src=\"https://colab.research.google.com/assets/colab-badge.svg\" alt=\"Open In Colab\"/></a>"
      ]
    },
    {
      "cell_type": "markdown",
      "source": [
        "## run"
      ],
      "metadata": {
        "id": "zDCvOVDHHhyN"
      }
    },
    {
      "cell_type": "code",
      "source": [
        "from google.colab import drive\n",
        "drive.mount('/content/drive')"
      ],
      "metadata": {
        "id": "WgOHhPlPHoby"
      },
      "execution_count": null,
      "outputs": []
    },
    {
      "cell_type": "code",
      "source": [
        "from urllib.request import urlopen#用于获取网页\n",
        "from bs4 import BeautifulSoup#用于解析网页\n",
        "html = urlopen('http://www.fortunechina.com/')\n",
        "bsObj = BeautifulSoup(html, 'html.parser')\n",
        "output = []\n",
        "print(\"今日文章内容\\n\")\n",
        "for tag in bsObj.find_all(attrs={\"class\": \"news-big1\"}):\n",
        "    temp = tag.find_all(attrs={\"class\": \"tit\"})\n",
        "    title = temp[0].get_text()\n",
        "    print(title)\n",
        "    url = temp[0].a.attrs['href']\n",
        "    print(url)\n",
        "    output.append(title)\n",
        "    output.append(url)\n",
        "\n",
        "for tag in bsObj.find_all(attrs={\"class\": \"nl1-con\"}):\n",
        "    title = tag.find_all(attrs={\"class\": \"tit\"})\n",
        "    zwname = title[0].get_text()\n",
        "    print(zwname)  \n",
        "    url = tag.attrs['href']\n",
        "    print(url)\n",
        "    output.append(zwname)\n",
        "    output.append(url)     "
      ],
      "metadata": {
        "colab": {
          "base_uri": "https://localhost:8080/"
        },
        "id": "ta8C5B2XiXll",
        "outputId": "72e40ab8-a88c-4e87-e1d8-90064a54118d"
      },
      "execution_count": 53,
      "outputs": [
        {
          "output_type": "stream",
          "name": "stdout",
          "text": [
            "今日文章内容\n",
            "\n",
            "美国几乎所有物品都在涨价，但这三类商品却越来越便宜\n",
            "https://www.fortunechina.com/shangye/c/2022-07/18/content_415448.htm\n",
            "人工智能正在推动更多的创新，但也引发了伦理问题\n",
            "https://www.fortunechina.com/keji/c/2022-07/18/content_415449.htm\n",
            "烂尾楼业主不应独吞苦果，这三方都有责\n",
            "https://www.fortunechina.com/shangye/c/2022-07/18/content_415440.htm\n",
            "美国银行认为，美国经济今年将陷入轻度衰退\n",
            "https://www.fortunechina.com/shangye/c/2022-07/16/content_415339.htm\n",
            "如何管理悲伤情绪？这是一门学问\n",
            "https://www.fortunechina.com/lingdaoli/c/2022-07/16/content_415342.htm\n",
            "逼空大战中，青山集团全身而退的秘密\n",
            "https://www.fortunechina.com/shangye/c/2022-07/16/content_415340.htm\n",
            "美国高通胀何去何从？81年前的一篇文章或许给出了答案\n",
            "https://www.fortunechina.com/shangye/c/2022-07/15/content_415318.htm\n",
            "2022年《财富》中国500强揭示的经济新趋势\n",
            "https://www.fortunechina.com/shangye/c/2022-07/15/content_415330.htm\n",
            "西安率先出招钳制银行，意在“甩锅”？\n",
            "https://www.fortunechina.com/shangye/c/2022-07/15/content_415329.htm\n",
            "银行股跌的核心逻辑并非停贷潮，而是这四个方面\n",
            "https://www.fortunechina.com/zhuanlan/c/2022-07/15/content_415311.htm\n"
          ]
        }
      ]
    },
    {
      "cell_type": "code",
      "source": [
        "example1 = \"/content/drive/MyDrive/intern.txt\"\n",
        "writeContent=[]\n",
        "print(\"相比过去新增加内容\\n\")\n",
        "with open(example1, \"r\") as file1:\n",
        "    FileContent = file1.read()\n",
        "    Content = FileContent.split(\"\\n\")\n",
        "    for line in output:\n",
        "      if line not in Content:\n",
        "        print(line)\n",
        "        writeContent.append(line)\n",
        "\n",
        "with open(example1, \"a\") as file1:\n",
        "  file1.write(\"\\n\")\n",
        "  for line in writeContent:\n",
        "    file1.write(line)\n",
        "    file1.write(\"\\n\")"
      ],
      "metadata": {
        "colab": {
          "base_uri": "https://localhost:8080/"
        },
        "id": "g2xsE_m4DRj1",
        "outputId": "70c05130-5bb9-480e-c4ea-d511575c8024"
      },
      "execution_count": 54,
      "outputs": [
        {
          "output_type": "stream",
          "name": "stdout",
          "text": [
            "相比过去新增加内容\n",
            "美国几乎所有物品都在涨价，但这三类商品却越来越便宜\n",
            "https://www.fortunechina.com/shangye/c/2022-07/18/content_415448.htm\n",
            "人工智能正在推动更多的创新，但也引发了伦理问题\n",
            "https://www.fortunechina.com/keji/c/2022-07/18/content_415449.htm\n",
            "烂尾楼业主不应独吞苦果，这三方都有责\n",
            "https://www.fortunechina.com/shangye/c/2022-07/18/content_415440.htm\n"
          ]
        }
      ]
    },
    {
      "cell_type": "markdown",
      "source": [
        "## backup"
      ],
      "metadata": {
        "id": "q6S8gP9hHe5d"
      }
    },
    {
      "cell_type": "code",
      "source": [
        "from urllib.request import urlopen#用于获取网页\n",
        "from bs4 import BeautifulSoup#用于解析网页\n",
        "html = urlopen('http://www.fortunechina.com/')\n",
        "bsObj = BeautifulSoup(html, 'html.parser')\n",
        "for tag in bsObj.find_all(attrs={\"class\": \"news-big1\"}):\n",
        "    temp = tag.find_all(attrs={\"class\": \"tit\"})\n",
        "    title = temp[0].get_text()\n",
        "    print(title)\n",
        "    url = temp[0].a.attrs['href']\n",
        "    print(url)\n",
        "\n",
        "\n",
        "for tag in bsObj.find_all(attrs={\"class\": \"nl1-con\"}):\n",
        "    title = tag.find_all(attrs={\"class\": \"tit\"})\n",
        "    zwname = title[0].get_text()\n",
        "    print(zwname)  \n",
        "    url = tag.attrs['href']\n",
        "    print(url)\n"
      ],
      "metadata": {
        "id": "ikAkbLKCAz97",
        "outputId": "e628d533-cbdb-4dda-df63-2c81b3d3c1c0",
        "colab": {
          "base_uri": "https://localhost:8080/"
        }
      },
      "execution_count": null,
      "outputs": [
        {
          "output_type": "stream",
          "name": "stdout",
          "text": [
            "美国银行认为，美国经济今年将陷入轻度衰退\n",
            "https://www.fortunechina.com/shangye/c/2022-07/16/content_415339.htm\n",
            "如何管理悲伤情绪？这是一门学问\n",
            "https://www.fortunechina.com/lingdaoli/c/2022-07/16/content_415342.htm\n",
            "逼空大战中，青山集团全身而退的秘密\n",
            "https://www.fortunechina.com/shangye/c/2022-07/16/content_415340.htm\n",
            "美国高通胀何去何从？81年前的一篇文章或许给出了答案\n",
            "https://www.fortunechina.com/shangye/c/2022-07/15/content_415318.htm\n",
            "2022年《财富》中国500强揭示的经济新趋势\n",
            "https://www.fortunechina.com/shangye/c/2022-07/15/content_415330.htm\n",
            "西安率先出招钳制银行，意在“甩锅”？\n",
            "https://www.fortunechina.com/shangye/c/2022-07/15/content_415329.htm\n",
            "银行股跌的核心逻辑并非停贷潮，而是这四个方面\n",
            "https://www.fortunechina.com/zhuanlan/c/2022-07/15/content_415311.htm\n",
            "加密货币有金融风险，稳定币也不稳定\n",
            "https://www.fortunechina.com/shangye/c/2022-07/14/content_415256.htm\n",
            "二季度经济增速0.4%背后的“痛点”与“亮点”\n",
            "https://www.fortunechina.com/zhuanlan/c/2022-07/15/content_415302.htm\n",
            "查理·芒格发话：“购买或交易加密货币的都是疯子！”\n",
            "https://www.fortunechina.com/shangye/c/2022-07/14/content_415253.htm\n"
          ]
        }
      ]
    }
  ]
}