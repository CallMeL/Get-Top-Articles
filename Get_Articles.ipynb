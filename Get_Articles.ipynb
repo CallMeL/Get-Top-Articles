{
  "nbformat": 4,
  "nbformat_minor": 0,
  "metadata": {
    "colab": {
      "name": "Get-Articles.ipynb",
      "provenance": [],
      "authorship_tag": "ABX9TyPTMVVKmYysuwf3zY3Nay4Q"
    },
    "kernelspec": {
      "name": "python3",
      "display_name": "Python 3"
    },
    "language_info": {
      "name": "python"
    }
  },
  "cells": [
    {
      "cell_type": "code",
      "execution_count": 1,
      "metadata": {
        "id": "FMLqW2JEXZHT"
      },
      "outputs": [],
      "source": [
        "from urllib.request import urlopen#用于获取网页\n",
        "from bs4 import BeautifulSoup#用于解析网页"
      ]
    },
    {
      "cell_type": "code",
      "source": [
        "html = urlopen('http://www.fortunechina.com/')\n",
        "bsObj = BeautifulSoup(html, 'html.parser')\n",
        "for tag in bsObj.find_all(attrs={\"class\": \"news-big1\"}):\n",
        "    temp = tag.find_all(attrs={\"class\": \"tit\"})\n",
        "    title = temp[0].get_text()\n",
        "    print(title)\n",
        "    url = temp[0].a.attrs['href']\n",
        "    print(url)\n",
        "\n",
        "\n",
        "for tag in bsObj.find_all(attrs={\"class\": \"nl1-con\"}):\n",
        "    title = tag.find_all(attrs={\"class\": \"tit\"})\n",
        "    zwname = title[0].get_text()\n",
        "    print(zwname)  \n",
        "    url = tag.attrs['href']\n",
        "    print(url)\n"
      ],
      "metadata": {
        "colab": {
          "base_uri": "https://localhost:8080/"
        },
        "id": "ta8C5B2XiXll",
        "outputId": "e2490e92-e6a3-4c4a-ade2-77697b07867d"
      },
      "execution_count": 79,
      "outputs": [
        {
          "output_type": "stream",
          "name": "stdout",
          "text": [
            "加密货币有金融风险，稳定币也不稳定\n",
            "https://www.fortunechina.com/shangye/c/2022-07/14/content_415256.htm\n",
            "二季度经济增速0.4%背后的“痛点”与“亮点”\n",
            "https://www.fortunechina.com/zhuanlan/c/2022-07/15/content_415302.htm\n",
            "查理·芒格发话：“购买或交易加密货币的都是疯子！”\n",
            "https://www.fortunechina.com/shangye/c/2022-07/14/content_415253.htm\n",
            "美国用工荒缓解，但这不意味着经济不会衰退\n",
            "https://www.fortunechina.com/shangye/c/2022-07/14/content_415254.htm\n",
            "想打造符合人体工学的居家办公环境，请做到这六件事\n",
            "https://www.fortunechina.com/shangye/c/2022-07/14/content_415260.htm\n",
            "诺基亚是通信行业的“专利刺客”\n",
            "https://www.fortunechina.com/zhuanlan/c/2022-07/14/content_415268.htm\n",
            "与推特的官司，马斯克“输得起”，而且“不会输”\n",
            "https://www.fortunechina.com/zhuanlan/c/2022-07/14/content_415244.htm\n",
            "为何《财富》中国500强中少见这两类企业？\n",
            "https://www.fortunechina.com/zhuanlan/c/2022-07/14/content_415241.htm\n",
            "上海数字规划是放开NFT交易的“令箭”？\n",
            "https://www.fortunechina.com/zhuanlan/c/2022-07/14/content_415239.htm\n",
            "“铤而走险”的停贷业主，能否迎来转机？\n",
            "https://www.fortunechina.com/shangye/c/2022-07/14/content_415227.htm\n"
          ]
        }
      ]
    }
  ]
}